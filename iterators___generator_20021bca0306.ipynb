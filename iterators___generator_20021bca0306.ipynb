{
  "nbformat": 4,
  "nbformat_minor": 0,
  "metadata": {
    "colab": {
      "provenance": [],
      "include_colab_link": true
    },
    "kernelspec": {
      "name": "python3",
      "display_name": "Python 3"
    },
    "language_info": {
      "name": "python"
    }
  },
  "cells": [
    {
      "cell_type": "markdown",
      "metadata": {
        "id": "view-in-github",
        "colab_type": "text"
      },
      "source": [
        "<a href=\"https://colab.research.google.com/github/PraveenChi/numpy/blob/main/iterators___generator_20021bca0306.ipynb\" target=\"_parent\"><img src=\"https://colab.research.google.com/assets/colab-badge.svg\" alt=\"Open In Colab\"/></a>"
      ]
    },
    {
      "cell_type": "markdown",
      "source": [
        "*Functional Programming*\n",
        "\n",
        "Functional programming decomposes a problem into a set of functions.\n",
        "Ideally, functions only take inputs and produce outputs, and don’t have any internal state that affects the output produced for a given input.\n",
        "\n",
        "Well-known functional languages include the ML family (Standard ML, OCaml, and other variants) and Haskell"
      ],
      "metadata": {
        "id": "uv9tv15CX9if"
      }
    },
    {
      "cell_type": "markdown",
      "source": [
        "Functional programming offers various features such as ***iterators and generators*** and relevant library modules such as ***itertools and functools***."
      ],
      "metadata": {
        "id": "oFiPGaqUYY2a"
      }
    },
    {
      "cell_type": "markdown",
      "source": [
        "Functional programming can be considered the opposite of ***object-oriented programming***.\n",
        "\n",
        "Objects are little capsules containing some internal state along with a collection of method calls that let you modify this state, and programs consist of making the right set of state changes.\n",
        "\n",
        "Functional programming wants to avoid state changes as much as possible and works with data flowing between functions.\n",
        "\n",
        "In Python you might combine the two approaches by writing functions that take and return instances representing objects in your application (e-mail messages, transactions, etc.)"
      ],
      "metadata": {
        "id": "xNCOfAzwY3Ht"
      }
    },
    {
      "cell_type": "markdown",
      "source": [
        "There are theoretical and practical advantages to the functional style:\n",
        "\n",
        "•\tFormal provability.\n",
        "\n",
        "•\tModularity.\n",
        "\n",
        "•\tComposability.\n",
        "\n",
        "•\tEase of debugging and testing\n"
      ],
      "metadata": {
        "id": "cPGwS8wLZNEF"
      }
    },
    {
      "cell_type": "markdown",
      "source": [
        "## ***Iterators***\n",
        "A Python language feature that’s an important foundation for writing functional-style programs: iterators.\n",
        "\n",
        "An iterator is an object representing a stream of data; this object returns the data one element at a time.\n",
        "\n",
        "A Python iterator must support a method called __next__() that takes no arguments and always returns the next element of the stream.\n",
        "\n",
        "If there are no more elements in the stream, __next__() must raise the StopIteration exception.\n",
        "\n",
        "Iterators don’t have to be finite, though; it’s perfectly reasonable to write an iterator that produces an infinite stream of data.\n",
        "\n",
        "The built-in iter() function takes an arbitrary object and tries to return an iterator that will return the object’s contents or elements, raising TypeError if the object doesn’t support iteration.\n",
        "\n",
        "Several of Python’s built-in data types support iteration, the most common being lists and dictionaries.\n",
        "\n",
        "**An object is called iterable if you can get an iterator for it.**\n"
      ],
      "metadata": {
        "id": "pF5oSuf7Zerl"
      }
    },
    {
      "cell_type": "code",
      "source": [
        "a = [4,5,6]\n",
        "it = iter(a)\n",
        "it\n"
      ],
      "metadata": {
        "colab": {
          "base_uri": "https://localhost:8080/"
        },
        "id": "sXCmoX1faPfo",
        "outputId": "1f3c3a51-42a4-44a0-f966-fd73d1bb91b9"
      },
      "execution_count": null,
      "outputs": [
        {
          "output_type": "execute_result",
          "data": {
            "text/plain": [
              "<list_iterator at 0x7f804536c370>"
            ]
          },
          "metadata": {},
          "execution_count": 1
        }
      ]
    },
    {
      "cell_type": "code",
      "source": [
        "next(it)"
      ],
      "metadata": {
        "colab": {
          "base_uri": "https://localhost:8080/"
        },
        "id": "gldNs8dNZS7v",
        "outputId": "cf00bc4f-b5ba-43ee-f17e-092915437ec6"
      },
      "execution_count": null,
      "outputs": [
        {
          "output_type": "execute_result",
          "data": {
            "text/plain": [
              "4"
            ]
          },
          "metadata": {},
          "execution_count": 2
        }
      ]
    },
    {
      "cell_type": "code",
      "source": [
        "it.__next__()"
      ],
      "metadata": {
        "colab": {
          "base_uri": "https://localhost:8080/"
        },
        "id": "lgdzGFwZbJe0",
        "outputId": "e2940642-565e-4e6a-8158-84680b072bbd"
      },
      "execution_count": null,
      "outputs": [
        {
          "output_type": "execute_result",
          "data": {
            "text/plain": [
              "5"
            ]
          },
          "metadata": {},
          "execution_count": 3
        }
      ]
    },
    {
      "cell_type": "code",
      "source": [
        "next(it)"
      ],
      "metadata": {
        "colab": {
          "base_uri": "https://localhost:8080/"
        },
        "id": "aNZmQrGrbXbD",
        "outputId": "d7c3283b-ad88-45eb-945f-594d19cb09ee"
      },
      "execution_count": null,
      "outputs": [
        {
          "output_type": "execute_result",
          "data": {
            "text/plain": [
              "6"
            ]
          },
          "metadata": {},
          "execution_count": 4
        }
      ]
    },
    {
      "cell_type": "code",
      "source": [
        "next(it)"
      ],
      "metadata": {
        "colab": {
          "base_uri": "https://localhost:8080/",
          "height": 175
        },
        "id": "zK02GtVJvuAh",
        "outputId": "e53355dc-2239-4c05-8435-405b97f72643"
      },
      "execution_count": null,
      "outputs": [
        {
          "output_type": "error",
          "ename": "StopIteration",
          "evalue": "ignored",
          "traceback": [
            "\u001b[0;31m---------------------------------------------------------------------------\u001b[0m",
            "\u001b[0;31mStopIteration\u001b[0m                             Traceback (most recent call last)",
            "\u001b[0;32m<ipython-input-6-bc1ab118995a>\u001b[0m in \u001b[0;36m<cell line: 1>\u001b[0;34m()\u001b[0m\n\u001b[0;32m----> 1\u001b[0;31m \u001b[0mnext\u001b[0m\u001b[0;34m(\u001b[0m\u001b[0mit\u001b[0m\u001b[0;34m)\u001b[0m\u001b[0;34m\u001b[0m\u001b[0;34m\u001b[0m\u001b[0m\n\u001b[0m",
            "\u001b[0;31mStopIteration\u001b[0m: "
          ]
        }
      ]
    },
    {
      "cell_type": "code",
      "source": [
        "for i in iter(a):\n",
        "  print(i)"
      ],
      "metadata": {
        "colab": {
          "base_uri": "https://localhost:8080/"
        },
        "id": "A8IpyVA4bcbY",
        "outputId": "55198150-0d43-4c06-f392-d09e32fd8f20"
      },
      "execution_count": null,
      "outputs": [
        {
          "output_type": "stream",
          "name": "stdout",
          "text": [
            "4\n",
            "5\n",
            "6\n"
          ]
        }
      ]
    },
    {
      "cell_type": "code",
      "source": [
        "for i in a:\n",
        "  print(i)\n"
      ],
      "metadata": {
        "colab": {
          "base_uri": "https://localhost:8080/"
        },
        "id": "kXI0VAWXbfTe",
        "outputId": "ec8a71c7-aa88-4048-e964-f04c5b544ba7"
      },
      "execution_count": null,
      "outputs": [
        {
          "output_type": "stream",
          "name": "stdout",
          "text": [
            "4\n",
            "5\n",
            "6\n"
          ]
        }
      ]
    },
    {
      "cell_type": "markdown",
      "source": [
        "# ***Iterators can be materialized as lists or tuples by using the list() or tuple() constructor functions:***"
      ],
      "metadata": {
        "id": "fPx7FZ0nc1zq"
      }
    },
    {
      "cell_type": "code",
      "source": [
        "b= [4,5,6]\n",
        "iterator = iter(b)\n",
        "L = tuple(iterator)\n",
        "L"
      ],
      "metadata": {
        "colab": {
          "base_uri": "https://localhost:8080/"
        },
        "id": "4lAAQsircvnm",
        "outputId": "b41df4e4-d692-4fc6-e252-fdb80e16fcd2"
      },
      "execution_count": null,
      "outputs": [
        {
          "output_type": "execute_result",
          "data": {
            "text/plain": [
              "(4, 5, 6)"
            ]
          },
          "metadata": {},
          "execution_count": 9
        }
      ]
    },
    {
      "cell_type": "markdown",
      "source": [
        "# ***Sequence unpacking also supports iterators: if you know an iterator will return N elements, you can unpack them into an N-tuple***"
      ],
      "metadata": {
        "id": "0WKYiSPEdOqK"
      }
    },
    {
      "cell_type": "code",
      "source": [
        "k = [7,8,9]\n",
        "iterator = iter(k)\n",
        "c,d = iterator\n",
        "c,d\n"
      ],
      "metadata": {
        "colab": {
          "base_uri": "https://localhost:8080/",
          "height": 227
        },
        "id": "wnshJMqHdUgB",
        "outputId": "6e77c108-5823-40f6-b752-6ca70f0fff04"
      },
      "execution_count": null,
      "outputs": [
        {
          "output_type": "error",
          "ename": "ValueError",
          "evalue": "ignored",
          "traceback": [
            "\u001b[0;31m---------------------------------------------------------------------------\u001b[0m",
            "\u001b[0;31mValueError\u001b[0m                                Traceback (most recent call last)",
            "\u001b[0;32m<ipython-input-10-f7c0c53a6a8b>\u001b[0m in \u001b[0;36m<cell line: 3>\u001b[0;34m()\u001b[0m\n\u001b[1;32m      1\u001b[0m \u001b[0mk\u001b[0m \u001b[0;34m=\u001b[0m \u001b[0;34m[\u001b[0m\u001b[0;36m7\u001b[0m\u001b[0;34m,\u001b[0m\u001b[0;36m8\u001b[0m\u001b[0;34m,\u001b[0m\u001b[0;36m9\u001b[0m\u001b[0;34m]\u001b[0m\u001b[0;34m\u001b[0m\u001b[0;34m\u001b[0m\u001b[0m\n\u001b[1;32m      2\u001b[0m \u001b[0miterator\u001b[0m \u001b[0;34m=\u001b[0m \u001b[0miter\u001b[0m\u001b[0;34m(\u001b[0m\u001b[0mk\u001b[0m\u001b[0;34m)\u001b[0m\u001b[0;34m\u001b[0m\u001b[0;34m\u001b[0m\u001b[0m\n\u001b[0;32m----> 3\u001b[0;31m \u001b[0mc\u001b[0m\u001b[0;34m,\u001b[0m\u001b[0md\u001b[0m \u001b[0;34m=\u001b[0m \u001b[0miterator\u001b[0m\u001b[0;34m\u001b[0m\u001b[0;34m\u001b[0m\u001b[0m\n\u001b[0m\u001b[1;32m      4\u001b[0m \u001b[0mc\u001b[0m\u001b[0;34m,\u001b[0m\u001b[0md\u001b[0m\u001b[0;34m\u001b[0m\u001b[0;34m\u001b[0m\u001b[0m\n",
            "\u001b[0;31mValueError\u001b[0m: too many values to unpack (expected 2)"
          ]
        }
      ]
    },
    {
      "cell_type": "code",
      "source": [],
      "metadata": {
        "id": "_Pw_e8CFxh2q"
      },
      "execution_count": null,
      "outputs": []
    },
    {
      "cell_type": "markdown",
      "source": [
        "Built-in functions such as max() and min() can take a single iterator argument and will return the largest or smallest element.\n",
        "\n",
        "The \"in\" and \"not in\" operators also support iterators: X in iterator is true if X is found in the stream returned by the iterator.\n",
        "\n",
        "\n",
        "Note that you can only go forward in an iterator; there’s no way to get the previous element, reset the iterator, or make a copy of it. Iterator objects can optionally provide these additional capabilities, but the iterator protocol only specifies the __next__() method. Functions may therefore consume all of the iterator’s output, and if you need to do something different with the same stream, you’ll have to create a new iterator.\n"
      ],
      "metadata": {
        "id": "CKmkboAQdoTo"
      }
    },
    {
      "cell_type": "markdown",
      "source": [
        "# ***Data Types That Support Iterators***\n",
        "\n",
        "\n",
        "Calling iter() on a dictionary returns an iterator that will loop over the dictionary’s keys:\n"
      ],
      "metadata": {
        "id": "DOwezPtQd7L-"
      }
    },
    {
      "cell_type": "code",
      "source": [
        "n = {'Jan': 1, 'Feb': 2, 'Mar': 3, 'Apr': 4, 'May': 5, 'Jun': 6, 'Jul': 7, 'Aug': 8, 'Sep': 9, 'Oct': 10, 'Nov': 11, 'Dec': 12}\n",
        "for key in n:\n",
        "  print(key, n[key])"
      ],
      "metadata": {
        "colab": {
          "base_uri": "https://localhost:8080/"
        },
        "id": "kOB89QtReDpE",
        "outputId": "706c092d-a035-40cf-dda0-be8169c9abf5"
      },
      "execution_count": null,
      "outputs": [
        {
          "output_type": "stream",
          "name": "stdout",
          "text": [
            "Jan 1\n",
            "Feb 2\n",
            "Mar 3\n",
            "Apr 4\n",
            "May 5\n",
            "Jun 6\n",
            "Jul 7\n",
            "Aug 8\n",
            "Sep 9\n",
            "Oct 10\n",
            "Nov 11\n",
            "Dec 12\n"
          ]
        }
      ]
    },
    {
      "cell_type": "markdown",
      "source": [
        "# Applying ***iter()*** to a dictionary always loops over the keys, but dictionaries have methods that return other iterators. If you want to iterate over values or key/value pairs, you can explicitly call the values() or items() methods to get an appropriate iterator.\n",
        "# The ***dict()*** constructor can accept an iterator that returns a finite stream of (key, value) tuples:\n"
      ],
      "metadata": {
        "id": "694Rw83demyD"
      }
    },
    {
      "cell_type": "code",
      "source": [
        "p=[6,7,8]\n",
        "[2*i for i in p]"
      ],
      "metadata": {
        "id": "j5jVuOLIqzOt",
        "colab": {
          "base_uri": "https://localhost:8080/"
        },
        "outputId": "779f5bce-fb4a-4081-dd62-b6e97b3d461b"
      },
      "execution_count": null,
      "outputs": [
        {
          "output_type": "execute_result",
          "data": {
            "text/plain": [
              "[12, 14, 16]"
            ]
          },
          "metadata": {},
          "execution_count": 12
        }
      ]
    },
    {
      "cell_type": "code",
      "source": [
        "g=[6,7,8]\n",
        "for i in g:\n",
        "  x=2*i\n",
        "  print(x)\n"
      ],
      "metadata": {
        "colab": {
          "base_uri": "https://localhost:8080/"
        },
        "id": "b2KWtoHQBc2r",
        "outputId": "dcb5a86b-6114-4d89-cb72-7b2d5f96c8b4"
      },
      "execution_count": null,
      "outputs": [
        {
          "output_type": "stream",
          "name": "stdout",
          "text": [
            "12\n",
            "14\n",
            "16\n"
          ]
        }
      ]
    },
    {
      "cell_type": "code",
      "source": [
        "[2*i for i in g]"
      ],
      "metadata": {
        "colab": {
          "base_uri": "https://localhost:8080/"
        },
        "id": "1AOF9Xg8BrvW",
        "outputId": "6c6fc95f-38f2-47b1-d842-2c51e0544134"
      },
      "execution_count": null,
      "outputs": [
        {
          "output_type": "execute_result",
          "data": {
            "text/plain": [
              "[12, 14, 16]"
            ]
          },
          "metadata": {},
          "execution_count": 14
        }
      ]
    },
    {
      "cell_type": "code",
      "source": [
        "Q = [('Italy', 'Rome'), ('France', 'Paris'), ('US', 'Washington DC')]\n",
        "dict(iter(Q))\n"
      ],
      "metadata": {
        "colab": {
          "base_uri": "https://localhost:8080/"
        },
        "id": "s9ce_Rmtd1PO",
        "outputId": "749cbfc8-00cd-422f-b3b8-f2f1d023569e"
      },
      "execution_count": null,
      "outputs": [
        {
          "output_type": "execute_result",
          "data": {
            "text/plain": [
              "{'Italy': 'Rome', 'France': 'Paris', 'US': 'Washington DC'}"
            ]
          },
          "metadata": {},
          "execution_count": 15
        }
      ]
    },
    {
      "cell_type": "markdown",
      "source": [
        "**List comprehensions** and **generator expressions** (short form: *“listcomps”* and *“genexps”*) are a concise notation for such operations, borrowed from the functional programming language Haskell (https://www.haskell.org/). You can strip all the whitespace from a stream of strings with the following code:"
      ],
      "metadata": {
        "id": "dSKvU1TngP1Q"
      }
    },
    {
      "cell_type": "code",
      "source": [
        "line_list = ['  Presidency University\\n', ' Computer Science Department\\n', ' Dept Of CSE \\n', '  \\n']\n",
        "\n",
        "# Generator expression -- returns iterator\n",
        "stripped_iter = (line.strip() for line in line_list)\n"
      ],
      "metadata": {
        "id": "5a85PdRDgaK7"
      },
      "execution_count": null,
      "outputs": []
    },
    {
      "cell_type": "code",
      "source": [
        "# List comprehension -- returns list\n",
        "strip_list = [line.strip() for line in line_list]\n",
        "print(strip_list)"
      ],
      "metadata": {
        "colab": {
          "base_uri": "https://localhost:8080/"
        },
        "id": "uhtv9oGCh5Zq",
        "outputId": "c9d3ae42-972b-4d22-8f78-37729c8861ab"
      },
      "execution_count": null,
      "outputs": [
        {
          "output_type": "stream",
          "name": "stdout",
          "text": [
            "['Presidency University', 'Computer Science Department', 'Dept Of CSE', '']\n"
          ]
        }
      ]
    },
    {
      "cell_type": "code",
      "source": [
        "#You can select only certain elements by adding an \"if\" condition:\n",
        "strip_list = [line.strip() for line in line_list if line != \" \"]\n",
        "print(strip_list)"
      ],
      "metadata": {
        "colab": {
          "base_uri": "https://localhost:8080/"
        },
        "id": "oeFnKnmAh6CN",
        "outputId": "039a24eb-1303-49b3-db7a-65fd879c11aa"
      },
      "execution_count": null,
      "outputs": [
        {
          "output_type": "stream",
          "name": "stdout",
          "text": [
            "['Presidency University', 'Computer Science Department', 'Dept Of CSE', '']\n"
          ]
        }
      ]
    },
    {
      "cell_type": "markdown",
      "source": [
        "## ***Generators***\n",
        "With a list comprehension, you get back a Python list; stripped_list is a list containing the resulting lines, not an iterator.\n",
        "\n",
        "Generator expressions return an iterator that computes the values as necessary, not needing to materialize all the values at once. This means that list comprehensions aren’t useful if you’re working with iterators that return an infinite stream or a very large amount of data.\n",
        "\n",
        "Generator expressions are preferable in these situations.\n",
        "\n",
        "Generator expressions are surrounded by parentheses (“()”) and list comprehensions are surrounded by square brackets (“[]”).\n",
        "\n",
        "Generator expressions have the form:\n",
        "\n",
        "( expression for expr in sequence1\n",
        "             \n",
        "             if condition1\n",
        "             for expr2 in sequence2\n",
        "             if condition2\n",
        "             for expr3 in sequence3\n",
        "             ...\n",
        "             if condition3\n",
        "             for exprN in sequenceN\n",
        "             if conditionN )\n",
        "Again, for a list comprehension only the outside brackets are different (square brackets instead of parentheses).\n",
        "The elements of the generated output will be the successive values of expression. The if clauses are all optional; if present, expression is only evaluated and added to the result when condition is true.\n",
        "Generator expressions always have to be written inside parentheses, but the parentheses signalling a function call also count. If you want to create an iterator that will be immediately passed to a function you can write:\n",
        "\n",
        "obj_total = sum(obj.count for obj in list_all_objects())\n",
        "\n",
        "The for...in clauses contain the sequences to be iterated over. The sequences do not have to be the same length, because they are iterated over from left to right, not in parallel. For each element in sequence1, sequence2 is looped over from the beginning. sequence3 is then looped over for each resulting pair of elements from sequence1 and sequence2.\n",
        "To put it another way, a list comprehension or generator expression is equivalent to the following Python code:\n",
        "\n",
        "for expr1 in sequence1:\n",
        "    \n",
        "    if not (condition1):\n",
        "        continue   # Skip this element\n",
        "    for expr2 in sequence2:\n",
        "        if not (condition2):\n",
        "            continue   # Skip this element\n",
        "        ...\n",
        "    for exprN in sequenceN:\n",
        "            if not (conditionN):\n",
        "                continue   # Skip this element\n",
        "\n",
        "            # Output the value of\n",
        "            # the expression.\n",
        "This means that when there are multiple for...in clauses but no if clauses, the length of the resulting output will be equal to the product of the lengths of all the sequences. If you have two lists of length 3, the output list is 9 elements long:"
      ],
      "metadata": {
        "id": "b7Fe4dMBi8nI"
      }
    },
    {
      "cell_type": "code",
      "source": [
        "Q1 = 'abc'\n",
        "Q2 = (4,5,6)\n",
        "[(x, y) for x in Q1 for y in Q2]"
      ],
      "metadata": {
        "id": "BPEXl0ADk384",
        "colab": {
          "base_uri": "https://localhost:8080/"
        },
        "outputId": "92c92116-0106-4aa5-f34e-8b970ce75804"
      },
      "execution_count": null,
      "outputs": [
        {
          "output_type": "execute_result",
          "data": {
            "text/plain": [
              "[('a', 4),\n",
              " ('a', 5),\n",
              " ('a', 6),\n",
              " ('b', 4),\n",
              " ('b', 5),\n",
              " ('b', 6),\n",
              " ('c', 4),\n",
              " ('c', 5),\n",
              " ('c', 6)]"
            ]
          },
          "metadata": {},
          "execution_count": 19
        }
      ]
    },
    {
      "cell_type": "markdown",
      "source": [
        "### **Generators**\n",
        "\n",
        "Generators are a special class of functions that simplify the task of writing iterators. Regular functions compute a value and return it, but generators return an iterator that returns a stream of values."
      ],
      "metadata": {
        "id": "K-LzP5TZqLCR"
      }
    },
    {
      "cell_type": "markdown",
      "source": [
        "Here’s the simplest example of a generator function:\n",
        "\n",
        "  \n",
        "    def generate_ints(N):\n",
        "      for i in range(N):\n",
        "        yield i\n",
        "\n",
        "Any function containing a ***yield*** keyword is a generator function;\n",
        "\n",
        "this is detected by Python’s bytecode compiler which compiles the function specially as a result.\n",
        "\n",
        "When you call a generator function, it doesn’t return a single value; instead it returns a generator object that supports the iterator protocol.\n",
        "\n",
        "On executing the yield expression, the generator outputs the value of i, similar to a return statement.\n",
        "\n",
        "The big difference between yield and a return statement is that on reaching a yield the generator’s state of execution is suspended and local variables are preserved.\n",
        "\n",
        "On the next call to the generator’s __next__() method, the function will resume executing.\n"
      ],
      "metadata": {
        "id": "C1SQx9ayXtQ-"
      }
    },
    {
      "cell_type": "markdown",
      "source": [
        "## ***Usage of the generate_ints() generator:***"
      ],
      "metadata": {
        "id": "FW_SmS2DYj8D"
      }
    },
    {
      "cell_type": "code",
      "source": [
        "def generate_ints(L):\n",
        "  for i in range(L):\n",
        "    yield i\n",
        "\n",
        "\n",
        "gen=generate_ints(8)\n",
        "next(gen)"
      ],
      "metadata": {
        "id": "qP-Sdf2OqfWe",
        "colab": {
          "base_uri": "https://localhost:8080/"
        },
        "outputId": "423930e3-6b6f-4298-a08b-a10f2c4a18b1"
      },
      "execution_count": null,
      "outputs": [
        {
          "output_type": "execute_result",
          "data": {
            "text/plain": [
              "0"
            ]
          },
          "metadata": {},
          "execution_count": 20
        }
      ]
    },
    {
      "cell_type": "code",
      "source": [
        "next(gen)"
      ],
      "metadata": {
        "colab": {
          "base_uri": "https://localhost:8080/"
        },
        "id": "5P80WJsRybT3",
        "outputId": "f349e6c4-43ac-42ae-e244-69090d7700d3"
      },
      "execution_count": null,
      "outputs": [
        {
          "output_type": "execute_result",
          "data": {
            "text/plain": [
              "1"
            ]
          },
          "metadata": {},
          "execution_count": 21
        }
      ]
    },
    {
      "cell_type": "code",
      "source": [
        "send(5)"
      ],
      "metadata": {
        "colab": {
          "base_uri": "https://localhost:8080/",
          "height": 175
        },
        "id": "k-VnxdxI0MQy",
        "outputId": "cf14c12c-6ac4-4a80-971c-b3e3f216dfb3"
      },
      "execution_count": null,
      "outputs": [
        {
          "output_type": "error",
          "ename": "NameError",
          "evalue": "ignored",
          "traceback": [
            "\u001b[0;31m---------------------------------------------------------------------------\u001b[0m",
            "\u001b[0;31mNameError\u001b[0m                                 Traceback (most recent call last)",
            "\u001b[0;32m<ipython-input-22-21223fb5d968>\u001b[0m in \u001b[0;36m<cell line: 1>\u001b[0;34m()\u001b[0m\n\u001b[0;32m----> 1\u001b[0;31m \u001b[0msend\u001b[0m\u001b[0;34m(\u001b[0m\u001b[0;36m5\u001b[0m\u001b[0;34m)\u001b[0m\u001b[0;34m\u001b[0m\u001b[0;34m\u001b[0m\u001b[0m\n\u001b[0m",
            "\u001b[0;31mNameError\u001b[0m: name 'send' is not defined"
          ]
        }
      ]
    },
    {
      "cell_type": "code",
      "source": [
        "next(gen)"
      ],
      "metadata": {
        "id": "v4E5uPGmzYKP",
        "colab": {
          "base_uri": "https://localhost:8080/"
        },
        "outputId": "d473c03f-628d-4beb-b8ab-a7f8614c3b3a"
      },
      "execution_count": null,
      "outputs": [
        {
          "output_type": "execute_result",
          "data": {
            "text/plain": [
              "2"
            ]
          },
          "metadata": {},
          "execution_count": 10
        }
      ]
    },
    {
      "cell_type": "code",
      "source": [
        "next(gen)"
      ],
      "metadata": {
        "colab": {
          "base_uri": "https://localhost:8080/"
        },
        "id": "Bhvjv6r8yh4E",
        "outputId": "84dcd1d1-2ad6-4327-b30f-1f6a9571bde3"
      },
      "execution_count": null,
      "outputs": [
        {
          "output_type": "execute_result",
          "data": {
            "text/plain": [
              "2"
            ]
          },
          "metadata": {},
          "execution_count": 23
        }
      ]
    },
    {
      "cell_type": "code",
      "source": [
        "next(gen)"
      ],
      "metadata": {
        "colab": {
          "base_uri": "https://localhost:8080/"
        },
        "id": "_cHmd1NpZS2K",
        "outputId": "2a8b2a90-dd59-470c-dee0-86e9662ec082"
      },
      "execution_count": null,
      "outputs": [
        {
          "output_type": "execute_result",
          "data": {
            "text/plain": [
              "3"
            ]
          },
          "metadata": {},
          "execution_count": 24
        }
      ]
    },
    {
      "cell_type": "code",
      "source": [
        "next(gen)"
      ],
      "metadata": {
        "colab": {
          "base_uri": "https://localhost:8080/"
        },
        "id": "3FsCIOcBzd6H",
        "outputId": "a8316618-fa22-48fc-a93d-0023ca8cbcee"
      },
      "execution_count": null,
      "outputs": [
        {
          "output_type": "execute_result",
          "data": {
            "text/plain": [
              "2"
            ]
          },
          "metadata": {},
          "execution_count": 9
        }
      ]
    },
    {
      "cell_type": "code",
      "source": [
        "next(gen)"
      ],
      "metadata": {
        "colab": {
          "base_uri": "https://localhost:8080/"
        },
        "id": "Ru9J3mgdzgmw",
        "outputId": "617d19d1-fcfe-42f8-8922-1eb9dae04fd4"
      },
      "execution_count": null,
      "outputs": [
        {
          "output_type": "execute_result",
          "data": {
            "text/plain": [
              "4"
            ]
          },
          "metadata": {},
          "execution_count": 25
        }
      ]
    },
    {
      "cell_type": "markdown",
      "source": [
        "Values are sent into a generator by calling its ***send(value***) method. This method resumes the generator’s code and the yield expression returns the specified value. If the regular __next__() method is called, the yield returns None"
      ],
      "metadata": {
        "id": "A67am5d-Z0cJ"
      }
    },
    {
      "cell_type": "code",
      "source": [
        "def counter(maximum):\n",
        "    i = 0\n",
        "    while i < maximum:\n",
        "        val = (yield i)\n",
        "        # If value provided, change counter\n",
        "        if val is not None:\n",
        "            i = val\n",
        "        else:\n",
        "            i += 3\n",
        "\n",
        "\n",
        "\n",
        "it = counter(30)\n",
        "next(it)"
      ],
      "metadata": {
        "colab": {
          "base_uri": "https://localhost:8080/"
        },
        "id": "gT8toLplZ-tj",
        "outputId": "33936db3-90ef-4dca-be05-420c1b74f571"
      },
      "execution_count": null,
      "outputs": [
        {
          "output_type": "execute_result",
          "data": {
            "text/plain": [
              "0"
            ]
          },
          "metadata": {},
          "execution_count": 26
        }
      ]
    },
    {
      "cell_type": "code",
      "source": [
        "next(it)"
      ],
      "metadata": {
        "colab": {
          "base_uri": "https://localhost:8080/"
        },
        "id": "4Xp7viil0YQY",
        "outputId": "c9efbfd3-8253-444c-fd3b-fa7effbfb5b3"
      },
      "execution_count": null,
      "outputs": [
        {
          "output_type": "execute_result",
          "data": {
            "text/plain": [
              "3"
            ]
          },
          "metadata": {},
          "execution_count": 27
        }
      ]
    },
    {
      "cell_type": "code",
      "source": [
        "next(it)"
      ],
      "metadata": {
        "colab": {
          "base_uri": "https://localhost:8080/"
        },
        "id": "RC9GcZCu1Xca",
        "outputId": "d0dcf432-d91b-4e90-d382-3507f719827e"
      },
      "execution_count": null,
      "outputs": [
        {
          "output_type": "execute_result",
          "data": {
            "text/plain": [
              "6"
            ]
          },
          "metadata": {},
          "execution_count": 28
        }
      ]
    },
    {
      "cell_type": "code",
      "source": [
        "next(it)"
      ],
      "metadata": {
        "id": "gobnO6triNsO",
        "colab": {
          "base_uri": "https://localhost:8080/"
        },
        "outputId": "8935e530-ef93-41f4-b182-8610ef913044"
      },
      "execution_count": null,
      "outputs": [
        {
          "output_type": "execute_result",
          "data": {
            "text/plain": [
              "9"
            ]
          },
          "metadata": {},
          "execution_count": 29
        }
      ]
    },
    {
      "cell_type": "code",
      "source": [
        "it.send(8)"
      ],
      "metadata": {
        "colab": {
          "base_uri": "https://localhost:8080/"
        },
        "id": "r6CuccGa0ggH",
        "outputId": "cbc264c2-25a3-4cee-ff1c-c9ed9f261c1d"
      },
      "execution_count": null,
      "outputs": [
        {
          "output_type": "execute_result",
          "data": {
            "text/plain": [
              "8"
            ]
          },
          "metadata": {},
          "execution_count": 30
        }
      ]
    },
    {
      "cell_type": "code",
      "source": [
        "next(it)"
      ],
      "metadata": {
        "colab": {
          "base_uri": "https://localhost:8080/"
        },
        "id": "QrsTqZU-0nFY",
        "outputId": "7ba756b5-c915-4cc9-d64a-f35e69099682"
      },
      "execution_count": null,
      "outputs": [
        {
          "output_type": "execute_result",
          "data": {
            "text/plain": [
              "11"
            ]
          },
          "metadata": {},
          "execution_count": 31
        }
      ]
    },
    {
      "cell_type": "code",
      "source": [
        "next(it)"
      ],
      "metadata": {
        "colab": {
          "base_uri": "https://localhost:8080/"
        },
        "id": "HZCaINXx0rx3",
        "outputId": "433caae6-51c7-4a36-ec7f-87b87c8cd37f"
      },
      "execution_count": null,
      "outputs": [
        {
          "output_type": "execute_result",
          "data": {
            "text/plain": [
              "14"
            ]
          },
          "metadata": {},
          "execution_count": 32
        }
      ]
    },
    {
      "cell_type": "code",
      "source": [
        "next(it)"
      ],
      "metadata": {
        "colab": {
          "base_uri": "https://localhost:8080/"
        },
        "id": "r3k-ANwjaect",
        "outputId": "1cb3ee28-d54a-44b7-cb1b-30de5967f2db"
      },
      "execution_count": null,
      "outputs": [
        {
          "output_type": "execute_result",
          "data": {
            "text/plain": [
              "17"
            ]
          },
          "metadata": {},
          "execution_count": 33
        }
      ]
    },
    {
      "cell_type": "code",
      "source": [
        "it.send(8)"
      ],
      "metadata": {
        "colab": {
          "base_uri": "https://localhost:8080/"
        },
        "id": "JZzrJrkXamJS",
        "outputId": "bdfd4c98-cb0a-4699-b468-cd51fd8f9ad0"
      },
      "execution_count": null,
      "outputs": [
        {
          "output_type": "execute_result",
          "data": {
            "text/plain": [
              "8"
            ]
          },
          "metadata": {},
          "execution_count": 34
        }
      ]
    },
    {
      "cell_type": "code",
      "source": [
        "next(it)"
      ],
      "metadata": {
        "colab": {
          "base_uri": "https://localhost:8080/"
        },
        "id": "dyrVm09zasXp",
        "outputId": "fb749e8a-cea8-47b0-b7c3-40e72f34663c"
      },
      "execution_count": null,
      "outputs": [
        {
          "output_type": "execute_result",
          "data": {
            "text/plain": [
              "11"
            ]
          },
          "metadata": {},
          "execution_count": 35
        }
      ]
    },
    {
      "cell_type": "markdown",
      "source": [
        "In addition to ***send()***, there are two other methods on generators:\n",
        "\n",
        "•\t***throw(value)*** is used to raise an exception inside the generator; the exception is raised by the yield expression where the generator’s execution is paused.\n",
        "\n",
        "•\t***close()*** raises a GeneratorExit exception inside the generator to terminate the iteration. On receiving this exception, the generator’s code must either raise GeneratorExit or StopIteration; catching the exception and doing anything else is illegal and will trigger a RuntimeError. close() will also be called by Python’s garbage collector when the generator is garbage-collected.\n"
      ],
      "metadata": {
        "id": "v_s-P_zsa9m0"
      }
    },
    {
      "cell_type": "markdown",
      "source": [
        "Two of Python’s built-in functions, ***map()*** and ***filter()*** duplicate the features of generator expressions:\n",
        "\n",
        "***map(f, iterA, iterB, ...) ***returns an iterator over the sequence"
      ],
      "metadata": {
        "id": "oEawIAGnbXf8"
      }
    },
    {
      "cell_type": "markdown",
      "source": [],
      "metadata": {
        "id": "zeJIYYbtbnTX"
      }
    },
    {
      "cell_type": "code",
      "source": [
        "def upper(s):\n",
        "  return s.upper()\n",
        "\n",
        "list(map(upper, ['sentence', 'fragment']))"
      ],
      "metadata": {
        "colab": {
          "base_uri": "https://localhost:8080/"
        },
        "id": "3QIYzspgbezS",
        "outputId": "3b2c7a46-440f-494b-df6b-1af23ff57476"
      },
      "execution_count": null,
      "outputs": [
        {
          "output_type": "execute_result",
          "data": {
            "text/plain": [
              "['SENTENCE', 'FRAGMENT']"
            ]
          },
          "metadata": {},
          "execution_count": 36
        }
      ]
    },
    {
      "cell_type": "code",
      "source": [
        "[upper(s) for s in ['sentence', 'fragment']]"
      ],
      "metadata": {
        "colab": {
          "base_uri": "https://localhost:8080/"
        },
        "id": "1NLRtsWbckZ1",
        "outputId": "28a8201a-7d7f-42ed-f3ff-2f56b2b4eb77"
      },
      "execution_count": null,
      "outputs": [
        {
          "output_type": "execute_result",
          "data": {
            "text/plain": [
              "['SENTENCE', 'FRAGMENT']"
            ]
          },
          "metadata": {},
          "execution_count": 37
        }
      ]
    },
    {
      "cell_type": "markdown",
      "source": [
        "***filter(predicate, iter)*** returns an iterator over all the sequence elements that meet a certain condition, and is similarly duplicated by list comprehensions. A predicate is a function that returns the truth value of some condition;\n",
        "\n",
        "for use with ***filter()***, the predicate must take a single value."
      ],
      "metadata": {
        "id": "hpByq9_4c2fN"
      }
    },
    {
      "cell_type": "code",
      "source": [
        "def is_even(Z):\n",
        "  return (Z % 2) == 0\n",
        "list(filter(is_even, range(10)))"
      ],
      "metadata": {
        "colab": {
          "base_uri": "https://localhost:8080/"
        },
        "id": "5nA60Lb4c-xN",
        "outputId": "95f9f794-8bf6-4995-8ed3-1a9378ff37bb"
      },
      "execution_count": null,
      "outputs": [
        {
          "output_type": "execute_result",
          "data": {
            "text/plain": [
              "[0, 2, 4, 6, 8]"
            ]
          },
          "metadata": {},
          "execution_count": 38
        }
      ]
    },
    {
      "cell_type": "code",
      "source": [
        "#List Comprehension\n",
        "list(Z for Z in range(10) if is_even(Z))"
      ],
      "metadata": {
        "colab": {
          "base_uri": "https://localhost:8080/"
        },
        "id": "u3uSPRMjddvc",
        "outputId": "812238f1-4c4f-4e02-8e4a-e63402ec1db6"
      },
      "execution_count": null,
      "outputs": [
        {
          "output_type": "execute_result",
          "data": {
            "text/plain": [
              "[0, 2, 4, 6, 8]"
            ]
          },
          "metadata": {},
          "execution_count": 39
        }
      ]
    },
    {
      "cell_type": "markdown",
      "source": [
        "***enumerate(iter, start=0)*** counts off the elements in the iterable returning 2-tuples containing the count (from start) and each element."
      ],
      "metadata": {
        "id": "X5uy_Z2Id3xi"
      }
    },
    {
      "cell_type": "code",
      "source": [
        "for item in enumerate(['D', 'X', 'J']):\n",
        "  print(item)\n"
      ],
      "metadata": {
        "colab": {
          "base_uri": "https://localhost:8080/"
        },
        "id": "PA8d6YDmd_QY",
        "outputId": "f1294e8d-2874-4101-a717-01290ca79d89"
      },
      "execution_count": null,
      "outputs": [
        {
          "output_type": "stream",
          "name": "stdout",
          "text": [
            "(0, 'D')\n",
            "(1, 'X')\n",
            "(2, 'J')\n"
          ]
        }
      ]
    },
    {
      "cell_type": "markdown",
      "source": [
        "***sort() method***"
      ],
      "metadata": {
        "id": "iunANMBieSnp"
      }
    },
    {
      "cell_type": "code",
      "source": [
        "import random\n",
        "# Generate 8 random numbers between [0, 10000)\n",
        "rand_list = random.sample(range(10000), 8)\n",
        "rand_list\n"
      ],
      "metadata": {
        "colab": {
          "base_uri": "https://localhost:8080/"
        },
        "id": "Hf0nZutkeR1k",
        "outputId": "69b2c700-f755-400e-fc94-63d81be1c4e5"
      },
      "execution_count": null,
      "outputs": [
        {
          "output_type": "execute_result",
          "data": {
            "text/plain": [
              "[9217, 1652, 1245, 5997, 8277, 6292, 3401, 9663]"
            ]
          },
          "metadata": {},
          "execution_count": 41
        }
      ]
    },
    {
      "cell_type": "code",
      "source": [
        "sorted(rand_list)"
      ],
      "metadata": {
        "colab": {
          "base_uri": "https://localhost:8080/"
        },
        "id": "YDCkxFIVehN3",
        "outputId": "a47ec03b-6e26-46f3-f7c1-fdcfe8610a51"
      },
      "execution_count": null,
      "outputs": [
        {
          "output_type": "execute_result",
          "data": {
            "text/plain": [
              "[1245, 1652, 3401, 5997, 6292, 8277, 9217, 9663]"
            ]
          },
          "metadata": {},
          "execution_count": 42
        }
      ]
    },
    {
      "cell_type": "code",
      "source": [
        "sorted(rand_list, reverse=True)"
      ],
      "metadata": {
        "colab": {
          "base_uri": "https://localhost:8080/"
        },
        "id": "dMXZk56uelLh",
        "outputId": "d166d53c-0df2-43d1-c481-375e997441a4"
      },
      "execution_count": null,
      "outputs": [
        {
          "output_type": "execute_result",
          "data": {
            "text/plain": [
              "[9663, 9217, 8277, 6292, 5997, 3401, 1652, 1245]"
            ]
          },
          "metadata": {},
          "execution_count": 43
        }
      ]
    },
    {
      "cell_type": "markdown",
      "source": [
        "# ***any(iter) and all(iter) built-ins***"
      ],
      "metadata": {
        "id": "-7_xQCHBer3J"
      }
    },
    {
      "cell_type": "markdown",
      "source": [
        "The ***any(iter) and all(iter)*** built-ins look at the truth values of an iterable’s contents. any() returns True if any element in the iterable is a true value, and all() returns True if all of the elements are true values:"
      ],
      "metadata": {
        "id": "Jy2NjZl5ev6W"
      }
    },
    {
      "cell_type": "code",
      "source": [
        "any([1, 1, 0])"
      ],
      "metadata": {
        "colab": {
          "base_uri": "https://localhost:8080/"
        },
        "id": "AnkKxkSHevF8",
        "outputId": "847307da-1556-4900-cf29-8492a1c32aef"
      },
      "execution_count": null,
      "outputs": [
        {
          "output_type": "execute_result",
          "data": {
            "text/plain": [
              "True"
            ]
          },
          "metadata": {},
          "execution_count": 44
        }
      ]
    },
    {
      "cell_type": "code",
      "source": [
        "all([0, 0, 0])"
      ],
      "metadata": {
        "colab": {
          "base_uri": "https://localhost:8080/"
        },
        "id": "3nvfL6gXfG-i",
        "outputId": "acc4e6e6-977d-46e7-b878-91079f5537d2"
      },
      "execution_count": null,
      "outputs": [
        {
          "output_type": "execute_result",
          "data": {
            "text/plain": [
              "False"
            ]
          },
          "metadata": {},
          "execution_count": 45
        }
      ]
    },
    {
      "cell_type": "markdown",
      "source": [
        "# ***zip(iterA, iterB, ...) takes one element from each iterable and returns them in a tuple:***"
      ],
      "metadata": {
        "id": "WzSfxA5zfVTg"
      }
    },
    {
      "cell_type": "code",
      "source": [
        "zip(['a','b','c'], (4,5,6))"
      ],
      "metadata": {
        "colab": {
          "base_uri": "https://localhost:8080/"
        },
        "id": "EoUOm0CLfZs6",
        "outputId": "d36ac74a-2141-4619-dc72-e6aede7aadb4"
      },
      "execution_count": null,
      "outputs": [
        {
          "output_type": "execute_result",
          "data": {
            "text/plain": [
              "<zip at 0x7f8044224340>"
            ]
          },
          "metadata": {},
          "execution_count": 46
        }
      ]
    },
    {
      "cell_type": "code",
      "source": [
        "zip(['a', 'b'], (7,8,9))"
      ],
      "metadata": {
        "colab": {
          "base_uri": "https://localhost:8080/"
        },
        "id": "R8r8IuUBfulT",
        "outputId": "43af8946-f92e-4833-d351-e82bb0d44858"
      },
      "execution_count": null,
      "outputs": [
        {
          "output_type": "execute_result",
          "data": {
            "text/plain": [
              "<zip at 0x7f804536b580>"
            ]
          },
          "metadata": {},
          "execution_count": 47
        }
      ]
    }
  ]
}